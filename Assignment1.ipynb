{
 "cells": [
  {
   "cell_type": "code",
   "execution_count": 107,
   "metadata": {},
   "outputs": [],
   "source": [
    "import scipy.io as sio\n",
    "import numpy as np\n",
    "import pandas as pd\n",
    "import math\n",
    "import random\n",
    "import matplotlib.pyplot as plt\n",
    "import statistics as statistics\n",
    "%matplotlib inline"
   ]
  },
  {
   "cell_type": "code",
   "execution_count": null,
   "metadata": {},
   "outputs": [],
   "source": [
    "X = sio.loadmat(\"C:/Users/bucha/Documents/Queens/5Year/425/Assignments/Assignment1/data/a1digits.mat\")['digits_train'] # Training data\n",
    "Y = sio.loadmat(\"C:/Users/bucha/Documents/Queens/5Year/425/Assignments/Assignment1/data/a1digits.mat\")['digits_test'] # Testing data"
   ]
  },
  {
   "cell_type": "code",
   "execution_count": null,
   "metadata": {},
   "outputs": [],
   "source": [
    "m, n, k = X.shape\n",
    "m2, n2, k2 = Y.shape\n",
    "\n",
    "# Plot a random sample\n",
    "num = random.randint(0,n-1)\n",
    "fig, axes = plt.subplots(1, k,figsize=(15,2.3),dpi=300)\n",
    "fig.suptitle('Digits for Sample %i' %num, size=15, x=0.2)\n",
    "\n",
    "for i in range(0, k):\n",
    "    axes[i].imshow(np.reshape(X[:,num,i],[8,8]), cmap='Greys_r')\n",
    "    axes[i].axis('off')\n",
    "    axes[i].set_title(str(i+1))"
   ]
  },
  {
   "cell_type": "code",
   "execution_count": null,
   "metadata": {},
   "outputs": [],
   "source": [
    "D, m, K = X.shape\n",
    "m2, n2, k2 = Y.shape\n",
    "print(D)\n",
    "print(m)\n",
    "print(K)"
   ]
  },
  {
   "cell_type": "code",
   "execution_count": 77,
   "metadata": {},
   "outputs": [],
   "source": [
    "mu = np.mean(X,axis=1)\n"
   ]
  },
  {
   "cell_type": "code",
   "execution_count": 91,
   "metadata": {},
   "outputs": [
    {
     "data": {
      "text/plain": [
       "0.25169527665638763"
      ]
     },
     "execution_count": 91,
     "metadata": {},
     "output_type": "execute_result"
    }
   ],
   "source": [
    "sigmaTotal =[]\n",
    "for k in range(0,K): # moving across class (0-9)\n",
    "    for j in range(0,m): # moving across objects (0,699)\n",
    "            sigma = np.sum(np.square(X[:,j,k] - mu[:,k])) # complete across features\n",
    "            sigmaTotal.append(sigma.tolist())\n",
    "sigmaSigma = sum(sigmaTotal)/(D*m*K)\n",
    "sigma = math.sqrt(sigmaSigma)"
   ]
  },
  {
   "cell_type": "code",
   "execution_count": null,
   "metadata": {},
   "outputs": [],
   "source": [
    "# Plot the means\n",
    "fig, axes = plt.subplots(1, k,figsize=(15,2.3),dpi=300)\n",
    "fig.suptitle('Conditional Gaussian Means, ' r'$\\mu_{k}$' \n",
    "             ' (Pixel Noise Standard Deviation ' r'$\\sigma$' ' = %0.4f)' %sigma, size=15, x=0.39)\n",
    "\n",
    "for i in range(0, k):\n",
    "    axes[i].imshow(np.reshape(mu[:,i],[8,8]), cmap='Greys_r')\n",
    "    axes[i].axis('off')\n",
    "    axes[i].set_title(str(i+1))\n",
    "\n",
    "\n"
   ]
  },
  {
   "cell_type": "code",
   "execution_count": null,
   "metadata": {},
   "outputs": [],
   "source": [
    "alphak = 0.1"
   ]
  }
 ],
 "metadata": {
  "kernelspec": {
   "display_name": "Python 3",
   "language": "python",
   "name": "python3"
  },
  "language_info": {
   "codemirror_mode": {
    "name": "ipython",
    "version": 3
   },
   "file_extension": ".py",
   "mimetype": "text/x-python",
   "name": "python",
   "nbconvert_exporter": "python",
   "pygments_lexer": "ipython3",
   "version": "3.8.3"
  }
 },
 "nbformat": 4,
 "nbformat_minor": 4
}
